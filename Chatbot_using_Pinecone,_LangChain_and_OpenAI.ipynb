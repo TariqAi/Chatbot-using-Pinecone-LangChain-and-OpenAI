{
  "nbformat": 4,
  "nbformat_minor": 0,
  "metadata": {
    "colab": {
      "provenance": []
    },
    "kernelspec": {
      "name": "python3",
      "display_name": "Python 3"
    },
    "language_info": {
      "name": "python"
    }
  },
  "cells": [
    {
      "cell_type": "code",
      "execution_count": 21,
      "metadata": {
        "colab": {
          "base_uri": "https://localhost:8080/"
        },
        "id": "3PzYa_8AK_fC",
        "outputId": "ca0e5e9e-48b8-4d6a-af96-f8ac8a8f29ac"
      },
      "outputs": [
        {
          "output_type": "stream",
          "name": "stdout",
          "text": [
            "Cloning into 'Chatbot-Portfolio'...\n",
            "remote: Enumerating objects: 24, done.\u001b[K\n",
            "remote: Counting objects: 100% (24/24), done.\u001b[K\n",
            "remote: Compressing objects: 100% (22/22), done.\u001b[K\n",
            "remote: Total 24 (delta 2), reused 0 (delta 0), pack-reused 0\u001b[K\n",
            "Receiving objects: 100% (24/24), 100.56 KiB | 1.46 MiB/s, done.\n",
            "Resolving deltas: 100% (2/2), done.\n"
          ]
        }
      ],
      "source": [
        "!git clone https://github.com/TariqAi/Chatbot-Portfolio.git"
      ]
    },
    {
      "cell_type": "code",
      "source": [
        "!pip install \\\n",
        "langchain_community \\\n",
        "langchain_pinecone \\\n",
        "langchain_openai \\\n",
        "unstructured \\\n",
        "langchain-text-splitters"
      ],
      "metadata": {
        "colab": {
          "base_uri": "https://localhost:8080/"
        },
        "id": "R83_mcgPQS61",
        "outputId": "f2b26bfe-41e2-48f7-9426-2c8658de0aaf"
      },
      "execution_count": 8,
      "outputs": [
        {
          "output_type": "stream",
          "name": "stdout",
          "text": [
            "Collecting langchain_community\n",
            "  Downloading langchain_community-0.2.7-py3-none-any.whl (2.2 MB)\n",
            "\u001b[2K     \u001b[90m━━━━━━━━━━━━━━━━━━━━━━━━━━━━━━━━━━━━━━━━\u001b[0m \u001b[32m2.2/2.2 MB\u001b[0m \u001b[31m8.0 MB/s\u001b[0m eta \u001b[36m0:00:00\u001b[0m\n",
            "\u001b[?25hCollecting langchain_pinecone\n",
            "  Downloading langchain_pinecone-0.1.1-py3-none-any.whl (8.4 kB)\n",
            "Collecting langchain_openai\n",
            "  Downloading langchain_openai-0.1.16-py3-none-any.whl (46 kB)\n",
            "\u001b[2K     \u001b[90m━━━━━━━━━━━━━━━━━━━━━━━━━━━━━━━━━━━━━━━━\u001b[0m \u001b[32m46.1/46.1 kB\u001b[0m \u001b[31m5.4 MB/s\u001b[0m eta \u001b[36m0:00:00\u001b[0m\n",
            "\u001b[?25hCollecting unstructured\n",
            "  Downloading unstructured-0.14.10-py3-none-any.whl (2.1 MB)\n",
            "\u001b[2K     \u001b[90m━━━━━━━━━━━━━━━━━━━━━━━━━━━━━━━━━━━━━━━━\u001b[0m \u001b[32m2.1/2.1 MB\u001b[0m \u001b[31m49.1 MB/s\u001b[0m eta \u001b[36m0:00:00\u001b[0m\n",
            "\u001b[?25hCollecting langchain-text-splitters\n",
            "  Downloading langchain_text_splitters-0.2.2-py3-none-any.whl (25 kB)\n",
            "Requirement already satisfied: PyYAML>=5.3 in /usr/local/lib/python3.10/dist-packages (from langchain_community) (6.0.1)\n",
            "Requirement already satisfied: SQLAlchemy<3,>=1.4 in /usr/local/lib/python3.10/dist-packages (from langchain_community) (2.0.31)\n",
            "Requirement already satisfied: aiohttp<4.0.0,>=3.8.3 in /usr/local/lib/python3.10/dist-packages (from langchain_community) (3.9.5)\n",
            "Collecting dataclasses-json<0.7,>=0.5.7 (from langchain_community)\n",
            "  Downloading dataclasses_json-0.6.7-py3-none-any.whl (28 kB)\n",
            "Collecting langchain<0.3.0,>=0.2.7 (from langchain_community)\n",
            "  Downloading langchain-0.2.8-py3-none-any.whl (987 kB)\n",
            "\u001b[2K     \u001b[90m━━━━━━━━━━━━━━━━━━━━━━━━━━━━━━━━━━━━━━━━\u001b[0m \u001b[32m987.6/987.6 kB\u001b[0m \u001b[31m45.8 MB/s\u001b[0m eta \u001b[36m0:00:00\u001b[0m\n",
            "\u001b[?25hCollecting langchain-core<0.3.0,>=0.2.12 (from langchain_community)\n",
            "  Downloading langchain_core-0.2.20-py3-none-any.whl (371 kB)\n",
            "\u001b[2K     \u001b[90m━━━━━━━━━━━━━━━━━━━━━━━━━━━━━━━━━━━━━━━━\u001b[0m \u001b[32m371.7/371.7 kB\u001b[0m \u001b[31m32.5 MB/s\u001b[0m eta \u001b[36m0:00:00\u001b[0m\n",
            "\u001b[?25hCollecting langsmith<0.2.0,>=0.1.0 (from langchain_community)\n",
            "  Downloading langsmith-0.1.88-py3-none-any.whl (134 kB)\n",
            "\u001b[2K     \u001b[90m━━━━━━━━━━━━━━━━━━━━━━━━━━━━━━━━━━━━━━━━\u001b[0m \u001b[32m134.3/134.3 kB\u001b[0m \u001b[31m12.9 MB/s\u001b[0m eta \u001b[36m0:00:00\u001b[0m\n",
            "\u001b[?25hRequirement already satisfied: numpy<2,>=1 in /usr/local/lib/python3.10/dist-packages (from langchain_community) (1.25.2)\n",
            "Requirement already satisfied: requests<3,>=2 in /usr/local/lib/python3.10/dist-packages (from langchain_community) (2.31.0)\n",
            "Requirement already satisfied: tenacity!=8.4.0,<9.0.0,>=8.1.0 in /usr/local/lib/python3.10/dist-packages (from langchain_community) (8.5.0)\n",
            "Collecting pinecone-client<4.0.0,>=3.2.2 (from langchain_pinecone)\n",
            "  Downloading pinecone_client-3.2.2-py3-none-any.whl (215 kB)\n",
            "\u001b[2K     \u001b[90m━━━━━━━━━━━━━━━━━━━━━━━━━━━━━━━━━━━━━━━━\u001b[0m \u001b[32m215.9/215.9 kB\u001b[0m \u001b[31m19.0 MB/s\u001b[0m eta \u001b[36m0:00:00\u001b[0m\n",
            "\u001b[?25hCollecting openai<2.0.0,>=1.32.0 (from langchain_openai)\n",
            "  Downloading openai-1.35.14-py3-none-any.whl (328 kB)\n",
            "\u001b[2K     \u001b[90m━━━━━━━━━━━━━━━━━━━━━━━━━━━━━━━━━━━━━━━━\u001b[0m \u001b[32m328.5/328.5 kB\u001b[0m \u001b[31m28.1 MB/s\u001b[0m eta \u001b[36m0:00:00\u001b[0m\n",
            "\u001b[?25hCollecting tiktoken<1,>=0.7 (from langchain_openai)\n",
            "  Downloading tiktoken-0.7.0-cp310-cp310-manylinux_2_17_x86_64.manylinux2014_x86_64.whl (1.1 MB)\n",
            "\u001b[2K     \u001b[90m━━━━━━━━━━━━━━━━━━━━━━━━━━━━━━━━━━━━━━━━\u001b[0m \u001b[32m1.1/1.1 MB\u001b[0m \u001b[31m42.5 MB/s\u001b[0m eta \u001b[36m0:00:00\u001b[0m\n",
            "\u001b[?25hRequirement already satisfied: chardet in /usr/local/lib/python3.10/dist-packages (from unstructured) (5.2.0)\n",
            "Collecting filetype (from unstructured)\n",
            "  Downloading filetype-1.2.0-py2.py3-none-any.whl (19 kB)\n",
            "Collecting python-magic (from unstructured)\n",
            "  Downloading python_magic-0.4.27-py2.py3-none-any.whl (13 kB)\n",
            "Requirement already satisfied: lxml in /usr/local/lib/python3.10/dist-packages (from unstructured) (4.9.4)\n",
            "Requirement already satisfied: nltk in /usr/local/lib/python3.10/dist-packages (from unstructured) (3.8.1)\n",
            "Requirement already satisfied: tabulate in /usr/local/lib/python3.10/dist-packages (from unstructured) (0.9.0)\n",
            "Requirement already satisfied: beautifulsoup4 in /usr/local/lib/python3.10/dist-packages (from unstructured) (4.12.3)\n",
            "Collecting emoji (from unstructured)\n",
            "  Downloading emoji-2.12.1-py3-none-any.whl (431 kB)\n",
            "\u001b[2K     \u001b[90m━━━━━━━━━━━━━━━━━━━━━━━━━━━━━━━━━━━━━━━━\u001b[0m \u001b[32m431.4/431.4 kB\u001b[0m \u001b[31m31.2 MB/s\u001b[0m eta \u001b[36m0:00:00\u001b[0m\n",
            "\u001b[?25hCollecting python-iso639 (from unstructured)\n",
            "  Downloading python_iso639-2024.4.27-py3-none-any.whl (274 kB)\n",
            "\u001b[2K     \u001b[90m━━━━━━━━━━━━━━━━━━━━━━━━━━━━━━━━━━━━━━━━\u001b[0m \u001b[32m274.7/274.7 kB\u001b[0m \u001b[31m25.7 MB/s\u001b[0m eta \u001b[36m0:00:00\u001b[0m\n",
            "\u001b[?25hCollecting langdetect (from unstructured)\n",
            "  Downloading langdetect-1.0.9.tar.gz (981 kB)\n",
            "\u001b[2K     \u001b[90m━━━━━━━━━━━━━━━━━━━━━━━━━━━━━━━━━━━━━━━━\u001b[0m \u001b[32m981.5/981.5 kB\u001b[0m \u001b[31m45.9 MB/s\u001b[0m eta \u001b[36m0:00:00\u001b[0m\n",
            "\u001b[?25h  Preparing metadata (setup.py) ... \u001b[?25l\u001b[?25hdone\n",
            "Collecting rapidfuzz (from unstructured)\n",
            "  Downloading rapidfuzz-3.9.4-cp310-cp310-manylinux_2_17_x86_64.manylinux2014_x86_64.whl (3.4 MB)\n",
            "\u001b[2K     \u001b[90m━━━━━━━━━━━━━━━━━━━━━━━━━━━━━━━━━━━━━━━━\u001b[0m \u001b[32m3.4/3.4 MB\u001b[0m \u001b[31m42.0 MB/s\u001b[0m eta \u001b[36m0:00:00\u001b[0m\n",
            "\u001b[?25h\u001b[33mWARNING: Retrying (Retry(total=4, connect=None, read=None, redirect=None, status=None)) after connection broken by 'ProtocolError('Connection aborted.', RemoteDisconnected('Remote end closed connection without response'))': /simple/backoff/\u001b[0m\u001b[33m\n",
            "\u001b[0mCollecting backoff (from unstructured)\n",
            "  Downloading backoff-2.2.1-py3-none-any.whl (15 kB)\n",
            "Requirement already satisfied: typing-extensions in /usr/local/lib/python3.10/dist-packages (from unstructured) (4.12.2)\n",
            "Collecting unstructured-client (from unstructured)\n",
            "  Downloading unstructured_client-0.24.1-py3-none-any.whl (41 kB)\n",
            "\u001b[2K     \u001b[90m━━━━━━━━━━━━━━━━━━━━━━━━━━━━━━━━━━━━━━━━\u001b[0m \u001b[32m41.9/41.9 kB\u001b[0m \u001b[31m3.4 MB/s\u001b[0m eta \u001b[36m0:00:00\u001b[0m\n",
            "\u001b[?25hRequirement already satisfied: wrapt in /usr/local/lib/python3.10/dist-packages (from unstructured) (1.14.1)\n",
            "Requirement already satisfied: tqdm in /usr/local/lib/python3.10/dist-packages (from unstructured) (4.66.4)\n",
            "Requirement already satisfied: psutil in /usr/local/lib/python3.10/dist-packages (from unstructured) (5.9.5)\n",
            "Requirement already satisfied: aiosignal>=1.1.2 in /usr/local/lib/python3.10/dist-packages (from aiohttp<4.0.0,>=3.8.3->langchain_community) (1.3.1)\n",
            "Requirement already satisfied: attrs>=17.3.0 in /usr/local/lib/python3.10/dist-packages (from aiohttp<4.0.0,>=3.8.3->langchain_community) (23.2.0)\n",
            "Requirement already satisfied: frozenlist>=1.1.1 in /usr/local/lib/python3.10/dist-packages (from aiohttp<4.0.0,>=3.8.3->langchain_community) (1.4.1)\n",
            "Requirement already satisfied: multidict<7.0,>=4.5 in /usr/local/lib/python3.10/dist-packages (from aiohttp<4.0.0,>=3.8.3->langchain_community) (6.0.5)\n",
            "Requirement already satisfied: yarl<2.0,>=1.0 in /usr/local/lib/python3.10/dist-packages (from aiohttp<4.0.0,>=3.8.3->langchain_community) (1.9.4)\n",
            "Requirement already satisfied: async-timeout<5.0,>=4.0 in /usr/local/lib/python3.10/dist-packages (from aiohttp<4.0.0,>=3.8.3->langchain_community) (4.0.3)\n",
            "Collecting marshmallow<4.0.0,>=3.18.0 (from dataclasses-json<0.7,>=0.5.7->langchain_community)\n",
            "  Downloading marshmallow-3.21.3-py3-none-any.whl (49 kB)\n",
            "\u001b[2K     \u001b[90m━━━━━━━━━━━━━━━━━━━━━━━━━━━━━━━━━━━━━━━━\u001b[0m \u001b[32m49.2/49.2 kB\u001b[0m \u001b[31m4.1 MB/s\u001b[0m eta \u001b[36m0:00:00\u001b[0m\n",
            "\u001b[?25hCollecting typing-inspect<1,>=0.4.0 (from dataclasses-json<0.7,>=0.5.7->langchain_community)\n",
            "  Downloading typing_inspect-0.9.0-py3-none-any.whl (8.8 kB)\n",
            "Requirement already satisfied: pydantic<3,>=1 in /usr/local/lib/python3.10/dist-packages (from langchain<0.3.0,>=0.2.7->langchain_community) (2.8.2)\n",
            "Collecting jsonpatch<2.0,>=1.33 (from langchain-core<0.3.0,>=0.2.12->langchain_community)\n",
            "  Downloading jsonpatch-1.33-py2.py3-none-any.whl (12 kB)\n",
            "Requirement already satisfied: packaging<25,>=23.2 in /usr/local/lib/python3.10/dist-packages (from langchain-core<0.3.0,>=0.2.12->langchain_community) (24.1)\n",
            "Collecting orjson<4.0.0,>=3.9.14 (from langsmith<0.2.0,>=0.1.0->langchain_community)\n",
            "  Downloading orjson-3.10.6-cp310-cp310-manylinux_2_17_x86_64.manylinux2014_x86_64.whl (141 kB)\n",
            "\u001b[2K     \u001b[90m━━━━━━━━━━━━━━━━━━━━━━━━━━━━━━━━━━━━━━━━\u001b[0m \u001b[32m141.1/141.1 kB\u001b[0m \u001b[31m15.9 MB/s\u001b[0m eta \u001b[36m0:00:00\u001b[0m\n",
            "\u001b[?25hRequirement already satisfied: anyio<5,>=3.5.0 in /usr/local/lib/python3.10/dist-packages (from openai<2.0.0,>=1.32.0->langchain_openai) (3.7.1)\n",
            "Requirement already satisfied: distro<2,>=1.7.0 in /usr/lib/python3/dist-packages (from openai<2.0.0,>=1.32.0->langchain_openai) (1.7.0)\n",
            "Collecting httpx<1,>=0.23.0 (from openai<2.0.0,>=1.32.0->langchain_openai)\n",
            "  Downloading httpx-0.27.0-py3-none-any.whl (75 kB)\n",
            "\u001b[2K     \u001b[90m━━━━━━━━━━━━━━━━━━━━━━━━━━━━━━━━━━━━━━━━\u001b[0m \u001b[32m75.6/75.6 kB\u001b[0m \u001b[31m8.9 MB/s\u001b[0m eta \u001b[36m0:00:00\u001b[0m\n",
            "\u001b[?25hRequirement already satisfied: sniffio in /usr/local/lib/python3.10/dist-packages (from openai<2.0.0,>=1.32.0->langchain_openai) (1.3.1)\n",
            "Requirement already satisfied: certifi>=2019.11.17 in /usr/local/lib/python3.10/dist-packages (from pinecone-client<4.0.0,>=3.2.2->langchain_pinecone) (2024.7.4)\n",
            "Requirement already satisfied: urllib3>=1.26.0 in /usr/local/lib/python3.10/dist-packages (from pinecone-client<4.0.0,>=3.2.2->langchain_pinecone) (2.0.7)\n",
            "Requirement already satisfied: charset-normalizer<4,>=2 in /usr/local/lib/python3.10/dist-packages (from requests<3,>=2->langchain_community) (3.3.2)\n",
            "Requirement already satisfied: idna<4,>=2.5 in /usr/local/lib/python3.10/dist-packages (from requests<3,>=2->langchain_community) (3.7)\n",
            "Requirement already satisfied: greenlet!=0.4.17 in /usr/local/lib/python3.10/dist-packages (from SQLAlchemy<3,>=1.4->langchain_community) (3.0.3)\n",
            "Requirement already satisfied: regex>=2022.1.18 in /usr/local/lib/python3.10/dist-packages (from tiktoken<1,>=0.7->langchain_openai) (2024.5.15)\n",
            "Requirement already satisfied: soupsieve>1.2 in /usr/local/lib/python3.10/dist-packages (from beautifulsoup4->unstructured) (2.5)\n",
            "Requirement already satisfied: six in /usr/local/lib/python3.10/dist-packages (from langdetect->unstructured) (1.16.0)\n",
            "Requirement already satisfied: click in /usr/local/lib/python3.10/dist-packages (from nltk->unstructured) (8.1.7)\n",
            "Requirement already satisfied: joblib in /usr/local/lib/python3.10/dist-packages (from nltk->unstructured) (1.4.2)\n",
            "Collecting deepdiff>=6.0 (from unstructured-client->unstructured)\n",
            "  Downloading deepdiff-7.0.1-py3-none-any.whl (80 kB)\n",
            "\u001b[2K     \u001b[90m━━━━━━━━━━━━━━━━━━━━━━━━━━━━━━━━━━━━━━━━\u001b[0m \u001b[32m80.8/80.8 kB\u001b[0m \u001b[31m8.1 MB/s\u001b[0m eta \u001b[36m0:00:00\u001b[0m\n",
            "\u001b[?25hCollecting jsonpath-python>=1.0.6 (from unstructured-client->unstructured)\n",
            "  Downloading jsonpath_python-1.0.6-py3-none-any.whl (7.6 kB)\n",
            "Collecting mypy-extensions>=1.0.0 (from unstructured-client->unstructured)\n",
            "  Downloading mypy_extensions-1.0.0-py3-none-any.whl (4.7 kB)\n",
            "Requirement already satisfied: nest-asyncio>=1.6.0 in /usr/local/lib/python3.10/dist-packages (from unstructured-client->unstructured) (1.6.0)\n",
            "Collecting pypdf>=4.0 (from unstructured-client->unstructured)\n",
            "  Downloading pypdf-4.3.0-py3-none-any.whl (295 kB)\n",
            "\u001b[2K     \u001b[90m━━━━━━━━━━━━━━━━━━━━━━━━━━━━━━━━━━━━━━━━\u001b[0m \u001b[32m295.7/295.7 kB\u001b[0m \u001b[31m30.4 MB/s\u001b[0m eta \u001b[36m0:00:00\u001b[0m\n",
            "\u001b[?25hRequirement already satisfied: python-dateutil>=2.8.2 in /usr/local/lib/python3.10/dist-packages (from unstructured-client->unstructured) (2.8.2)\n",
            "Collecting requests-toolbelt>=1.0.0 (from unstructured-client->unstructured)\n",
            "  Downloading requests_toolbelt-1.0.0-py2.py3-none-any.whl (54 kB)\n",
            "\u001b[2K     \u001b[90m━━━━━━━━━━━━━━━━━━━━━━━━━━━━━━━━━━━━━━━━\u001b[0m \u001b[32m54.5/54.5 kB\u001b[0m \u001b[31m6.6 MB/s\u001b[0m eta \u001b[36m0:00:00\u001b[0m\n",
            "\u001b[?25hRequirement already satisfied: exceptiongroup in /usr/local/lib/python3.10/dist-packages (from anyio<5,>=3.5.0->openai<2.0.0,>=1.32.0->langchain_openai) (1.2.1)\n",
            "Collecting ordered-set<4.2.0,>=4.1.0 (from deepdiff>=6.0->unstructured-client->unstructured)\n",
            "  Downloading ordered_set-4.1.0-py3-none-any.whl (7.6 kB)\n",
            "Collecting httpcore==1.* (from httpx<1,>=0.23.0->openai<2.0.0,>=1.32.0->langchain_openai)\n",
            "  Downloading httpcore-1.0.5-py3-none-any.whl (77 kB)\n",
            "\u001b[2K     \u001b[90m━━━━━━━━━━━━━━━━━━━━━━━━━━━━━━━━━━━━━━━━\u001b[0m \u001b[32m77.9/77.9 kB\u001b[0m \u001b[31m10.0 MB/s\u001b[0m eta \u001b[36m0:00:00\u001b[0m\n",
            "\u001b[?25hCollecting h11<0.15,>=0.13 (from httpcore==1.*->httpx<1,>=0.23.0->openai<2.0.0,>=1.32.0->langchain_openai)\n",
            "  Downloading h11-0.14.0-py3-none-any.whl (58 kB)\n",
            "\u001b[2K     \u001b[90m━━━━━━━━━━━━━━━━━━━━━━━━━━━━━━━━━━━━━━━━\u001b[0m \u001b[32m58.3/58.3 kB\u001b[0m \u001b[31m7.0 MB/s\u001b[0m eta \u001b[36m0:00:00\u001b[0m\n",
            "\u001b[?25hCollecting jsonpointer>=1.9 (from jsonpatch<2.0,>=1.33->langchain-core<0.3.0,>=0.2.12->langchain_community)\n",
            "  Downloading jsonpointer-3.0.0-py2.py3-none-any.whl (7.6 kB)\n",
            "Requirement already satisfied: annotated-types>=0.4.0 in /usr/local/lib/python3.10/dist-packages (from pydantic<3,>=1->langchain<0.3.0,>=0.2.7->langchain_community) (0.7.0)\n",
            "Requirement already satisfied: pydantic-core==2.20.1 in /usr/local/lib/python3.10/dist-packages (from pydantic<3,>=1->langchain<0.3.0,>=0.2.7->langchain_community) (2.20.1)\n",
            "Building wheels for collected packages: langdetect\n",
            "  Building wheel for langdetect (setup.py) ... \u001b[?25l\u001b[?25hdone\n",
            "  Created wheel for langdetect: filename=langdetect-1.0.9-py3-none-any.whl size=993227 sha256=212fadc8e1ebab064fe3073c676633c793db62155cd85a4174c1b4be8f69f297\n",
            "  Stored in directory: /root/.cache/pip/wheels/95/03/7d/59ea870c70ce4e5a370638b5462a7711ab78fba2f655d05106\n",
            "Successfully built langdetect\n",
            "Installing collected packages: filetype, rapidfuzz, python-magic, python-iso639, pypdf, pinecone-client, orjson, ordered-set, mypy-extensions, marshmallow, langdetect, jsonpointer, jsonpath-python, h11, emoji, backoff, typing-inspect, tiktoken, requests-toolbelt, jsonpatch, httpcore, deepdiff, langsmith, httpx, dataclasses-json, unstructured-client, openai, langchain-core, unstructured, langchain-text-splitters, langchain_pinecone, langchain_openai, langchain, langchain_community\n",
            "Successfully installed backoff-2.2.1 dataclasses-json-0.6.7 deepdiff-7.0.1 emoji-2.12.1 filetype-1.2.0 h11-0.14.0 httpcore-1.0.5 httpx-0.27.0 jsonpatch-1.33 jsonpath-python-1.0.6 jsonpointer-3.0.0 langchain-0.2.8 langchain-core-0.2.20 langchain-text-splitters-0.2.2 langchain_community-0.2.7 langchain_openai-0.1.16 langchain_pinecone-0.1.1 langdetect-1.0.9 langsmith-0.1.88 marshmallow-3.21.3 mypy-extensions-1.0.0 openai-1.35.14 ordered-set-4.1.0 orjson-3.10.6 pinecone-client-3.2.2 pypdf-4.3.0 python-iso639-2024.4.27 python-magic-0.4.27 rapidfuzz-3.9.4 requests-toolbelt-1.0.0 tiktoken-0.7.0 typing-inspect-0.9.0 unstructured-0.14.10 unstructured-client-0.24.1\n"
          ]
        }
      ]
    },
    {
      "cell_type": "code",
      "source": [
        "from langchain_pinecone import PineconeVectorStore\n",
        "from langchain_openai import OpenAIEmbeddings\n",
        "from langchain_community.document_loaders import DirectoryLoader\n",
        "from langchain_text_splitters import RecursiveCharacterTextSplitter\n",
        "import os\n",
        "import glob"
      ],
      "metadata": {
        "id": "7GQiRATVQS4h"
      },
      "execution_count": 9,
      "outputs": []
    },
    {
      "cell_type": "code",
      "source": [
        "loader = DirectoryLoader('Chatbot-Portfolio', glob=\"**/*.mdx\")"
      ],
      "metadata": {
        "id": "sILx9bTXQS1p"
      },
      "execution_count": 22,
      "outputs": []
    },
    {
      "cell_type": "code",
      "source": [
        "docs = loader.load()"
      ],
      "metadata": {
        "id": "vpmhDjXMQSzT"
      },
      "execution_count": 11,
      "outputs": []
    },
    {
      "cell_type": "code",
      "source": [
        "docs[0]"
      ],
      "metadata": {
        "colab": {
          "base_uri": "https://localhost:8080/"
        },
        "id": "SrJAp9TMQSxD",
        "outputId": "1a5eb07d-9356-489a-e9a2-3c9094eb12ec"
      },
      "execution_count": 12,
      "outputs": [
        {
          "output_type": "execute_result",
          "data": {
            "text/plain": [
              "Document(metadata={'source': 'portfolio/src/app/learn/courses/infrastructure-as-code/page.mdx'}, page_content='import { ArticleLayout } from \\'@/components/ArticleLayout\\' import Image from \\'next/image\\' import infraAsCode from \\'@/images/infrastructure-as-code.webp\\' import { Button } from \\'@/components/Button\\'\\n\\nimport { createMetadata } from \\'@/utils/createMetadata\\'\\n\\nexport const metadata = createMetadata({ author: \\'Zachary Proser\\', date: \\'2023-10-18\\', title: \\'Infrastructure as Code\\', description: \\'Learn to stand up infrastructure in AWS using infrastructure as code\\', image: infraAsCode, })\\n\\nexport default (props) => <ArticleLayout metadata={metadata} {...props} />\\n\\n## Build systems in the cloud - quickly\\n\\n<Image src={infraAsCode} alt=\"Infrastructure as Code\" />\\n\\nInfrastructure as code is a critical skill these days. Practitioners are able to define and bring up reproducible copies of architectures on cloud providers such as AWS and Google Cloud.\\n\\nThis course will get you hands on with CloudFormation, Terraform and Pulumi.\\n\\n<Button\\n\\nvariant={\"green\"}\\n\\nhref={`/learn/infrastructure\\n\\nas\\n\\ncode/0`}\\n\\n>\\n\\nInfrastructure as code intro\\n\\nstart course\\n\\n</Button>')"
            ]
          },
          "metadata": {},
          "execution_count": 12
        }
      ]
    },
    {
      "cell_type": "code",
      "source": [
        "docs[0].metadata"
      ],
      "metadata": {
        "colab": {
          "base_uri": "https://localhost:8080/"
        },
        "id": "OM0YeLx5QSsH",
        "outputId": "5847d6cf-ae2c-4828-d53c-f503297f96df"
      },
      "execution_count": 13,
      "outputs": [
        {
          "output_type": "execute_result",
          "data": {
            "text/plain": [
              "{'source': 'portfolio/src/app/learn/courses/infrastructure-as-code/page.mdx'}"
            ]
          },
          "metadata": {},
          "execution_count": 13
        }
      ]
    },
    {
      "cell_type": "code",
      "source": [
        "from google.colab import userdata\n",
        "\n",
        "os.environ['OPENAI_API_KEY'] = userdata.get('OPENAI_API_KEY')\n",
        "os.environ['PINECONE_API_KEY'] = userdata.get('PINECONE_API_KEY')"
      ],
      "metadata": {
        "id": "pumLDCDTQSp8"
      },
      "execution_count": 14,
      "outputs": []
    },
    {
      "cell_type": "code",
      "source": [
        "embeddings = OpenAIEmbeddings(\n",
        "    model=\"text-embedding-3-small\"\n",
        ")\n",
        "\n",
        "index_name = \"pinecone-chatbot\"\n",
        "\n",
        "# Split our documents into chunks\n",
        "text_splitter = RecursiveCharacterTextSplitter()\n",
        "split_docs = text_splitter.split_documents(docs)"
      ],
      "metadata": {
        "id": "bmPuq_PwWyU2"
      },
      "execution_count": 15,
      "outputs": []
    },
    {
      "cell_type": "code",
      "source": [
        "split_docs[25]"
      ],
      "metadata": {
        "colab": {
          "base_uri": "https://localhost:8080/"
        },
        "id": "a-v3Y9JRWySd",
        "outputId": "8774989c-99aa-4f77-94a3-a83fba6f2024"
      },
      "execution_count": 16,
      "outputs": [
        {
          "output_type": "execute_result",
          "data": {
            "text/plain": [
              "Document(metadata={'source': 'portfolio/src/app/learn/courses/your-first-full-stack-app/page.mdx'}, page_content='import { ArticleLayout } from \\'@/components/ArticleLayout\\' import yourFirstFullStackApp from \\'@/images/first-full-stack-app.webp\\' import { Button } from \\'@/components/Button\\' import Image from \\'next/image\\';\\n\\nimport { createMetadata } from \\'@/utils/createMetadata\\'\\n\\nexport const metadata = createMetadata({ author: \\'Zachary Proser\\', date: \\'2023-10-18\\', title: \\'Your first full stack app\\', description: \\'Frontend, Backend, and Database - soon you&apos;ll have mastery of them all\\', image: yourFirstFullStackApp, })\\n\\nexport default (props) => <ArticleLayout metadata={metadata} {...props} />\\n\\n<Image width={1200} height={600} src={yourFirstFullStackApp.src} />\\n\\n## Get your first full stack app on your portfolio\\n\\nAlways wanted to build a complete web app but aren\\'t sure how to get started? This course is for you.\\n\\n<Button variant={\"green\"} href={`/learn/your-first-full-stack-app/0`} > Your first full stack app - start course </Button>')"
            ]
          },
          "metadata": {},
          "execution_count": 16
        }
      ]
    },
    {
      "cell_type": "code",
      "source": [
        "vectorstore = PineconeVectorStore.from_documents(split_docs, embeddings, index_name=index_name)"
      ],
      "metadata": {
        "id": "N4drPlPsWyP2"
      },
      "execution_count": 17,
      "outputs": []
    },
    {
      "cell_type": "code",
      "source": [
        "query = \"What is the programming bug?\"\n",
        "\n",
        "similar_docs = vectorstore.similarity_search(query)"
      ],
      "metadata": {
        "id": "D_Fhg81MWyNd"
      },
      "execution_count": 18,
      "outputs": []
    },
    {
      "cell_type": "code",
      "source": [
        "similar_docs"
      ],
      "metadata": {
        "colab": {
          "base_uri": "https://localhost:8080/"
        },
        "id": "u1B7qUCjeto5",
        "outputId": "4a9cfc69-8aa0-472f-dfa3-b49dfabc464c"
      },
      "execution_count": 19,
      "outputs": [
        {
          "output_type": "execute_result",
          "data": {
            "text/plain": [
              "[Document(metadata={'source': 'portfolio/src/app/blog/first-see-if-youve-got-the-bug/page.mdx'}, page_content='import { ArticleLayout } from \\'@/components/ArticleLayout\\' import Newsletter from \\'@/components/NewsletterWrapper\\'\\n\\nimport sparkOfLearning from \\'@/images/spark\\n\\nof\\n\\nlearning.webp\\'\\n\\nimport foundTheSpark from \\'@/images/found\\n\\nthe\\n\\nspark.webp\\'\\n\\nimport programmingBug from \\'@/images/programming\\n\\nbug.webp\\'\\n\\nimport exploringProgramming from \\'@/images/exploring\\n\\nprogramming.webp\\'\\n\\nimport learningToCodeMap from \\'@/images/learning\\n\\nto\\n\\ncode\\n\\nmap.webp\\'\\n\\nimport workingHacker from \\'@/images/working\\n\\nhacker.webp\\'\\n\\nimport hookedOnHacking from \\'@/images/hooked\\n\\non\\n\\nhacking.webp\\'\\n\\nimport hackerEncouragement from \\'@/images/hacker\\n\\nencouraging.webp\\'\\n\\nimport programmingBugReleased from \\'@/images/programming\\n\\nbug\\n\\nreleased.webp\\'\\n\\nimport programmersInSnowglobe from \\'@/images/programmers\\n\\nin\\n\\nsnowglobe.webp\\'\\n\\nimport programmingIsMagic from \\'@/images/programming\\n\\nis\\n\\nmagic.webp\\'\\n\\nimport givingUpCoin from \\'@/images/giving\\n\\nup\\n\\ncoins.webp\\'\\n\\nimport descentCoverArt from \\'@/images/descent.webp\\'\\n\\nimport Image from \\'next/image\\'\\n\\nimport Link from \\'next/link\\'\\n\\nimport { createMetadata } from \\'@/utils/createMetadata\\'\\n\\nimport ConsultingCTA from \\'@/components/ConsultingCTA\\'\\n\\nexport const metadata = createMetadata({ author: \"Zachary Proser\", date: \"2023-07-17\", title: \"First, find out if you\\'ve got the programming bug\", description: \"I get this question a lot: how do I get into coding? This is my best advice. \", image: sparkOfLearning, })\\n\\nexport default (props) => <ArticleLayout metadata={metadata} {...props} />\\n\\n<Image src={foundTheSpark} />\\n\\n> I\\'m thinking about learning to code. Which laptop should I get? Should I do a bootcamp? Does my child need special classes or prep in order to tackle a computer science degree?\\n\\nA lot of different folks ask me if they should learn to code, if software development is a good career trajectory for them or their children, and what they need to study in school in order to be successful.\\n\\n## Here\\'s my advice in a nutshell\\n\\nBefore you should worry about any of that: your major, which school you\\'re trying to get your kid into, which laptop you should purchase, you need to figure out if you (or your kid) have the \"programming bug\".\\n\\nThis will require a bit of exploration and effort on your part, but the good news is there\\'s a ton of high quality and free resources online that will give you enough of a taste for coding and building to help you determine if this is something worth pursuing as a career or hobby. I\\'ll share some of my favorites in this post.\\n\\n<Image src={sparkOfLearning} />\\n\\n## What is the programming bug?\\n\\n\"The programming bug\" is the spark of innate curiosity that drives your learning forward. Innate meaning that it\\'s coming from you - other people don\\'t need to push you to do it.\\n\\n<Image src={programmingBug} />\\n\\nIn software development, coding, systems engineering, machine learning, data science; basically, in working with computers while also possibly working with people - there are periods of profound frustration and tedium, punctuated by anxiety and stress.\\n\\nI have personally reached a level of frustration that brought tears to my eyes countless times. If you pursue the path of a digital craftsperson, be assured that you will, too. Especially in the beginning. That\\'s okay.\\n\\nI also happen to think that being able to describe to machines of all shapes and sizes exactly what you want them to do in their own languages; to solve problems in collaboration with machines, and to be able to bring an idea from your imagination all the way to a publicly accessible piece of software that people from around the world use and find utility or joy in - borders on magic.\\n\\n<Image src={programmingIsMagic} alt=\"Programming is magic\" />\\n\\n<Newsletter />\\n\\n## The spark of curiosity allows you to continually re-ignite your own passion for the craft'),\n",
              " Document(metadata={'source': 'portfolio/src/app/blog/first-see-if-youve-got-the-bug/page.mdx'}, page_content='I\\'ll continue to add more as I find good channels to help folks get a feel for the day in, day out coding tasks.\\n\\nKeep in mind: these channels will give you a good taste of working with code, using a code editor and working with different languages and tools, but that\\'s only a part of the overall job of being a professional developer.\\n\\nThere\\'s entire bookshelves worth of good content on the soft skills of the job: working effectively up and down your organization, planning, team structure and dynamics, collaborative coding, team meetings, methods for planning and tracking work, methods for keeping things organized when working with other developers, etc.\\n\\nThese skills are perhaps even more important than the technical skills, and, if you decide this space is for you, then you\\'ll want to ensure you\\'re paying attention to your soft skill development as well.\\n\\n## You may not might find the programming bug overnight\\n\\n<Image src={learningToCodeMap} alt=\"Learning to code can be a winding path and it can look different for everyone\" />\\n\\nI\\'ve been on a computer since I was 3 years old, but for the first few years I was really only playing games, making diaramas with paint and similar programs.\\n\\nAround age 11, I had a neighborhood friend who showed me an early Descent game on his PC.\\n\\n<Image src={descentCoverArt} alt=\"One of the earliest Descent PC games\" />\\n\\nHe also had a C++ textbook that he let me borrow and read through. At the tender age of 11, I was thinking to myself that I would read this book, become a developer, and then make my own games. I started by trying to understand the textbook material. This didn\\'t pan out - and it would be another 15 years until I\\'d make a conscious decision to learn to code.\\n\\nAt age 26, I joined my first tech company as a marketing associate. Luckily, there was a component of the job that was also quality assurance, and our product was very technical, so I had to use the command line to send various test payloads into our engine and verify the outputs made sense. I was hooked.\\n\\n<Image src={hookedOnHacking} />\\n\\nThe staff-level developer who was sitting next to me gave me just the right amount of encouragement and said that if I kept at it - I would be like \"this\" (he made a motion with his hand of an upward ramp). From that point forward, I was teaching myself everything I could on nights and weekends. Practicing, coding, reading about coding and trying to build things. And I\\'ve never stopped.\\n\\n<Image src={hackerEncouragement} />\\n\\nThe timeline for learning to code can be lumpy and will look different for different people. That\\'s okay, too.\\n\\n<Newsletter />\\n\\n## What do you do if you think you DO have the programming bug?\\n\\nSo what should you do if you try out some of these types of programming exercises and you find out that you really do like them? That you find yourself thinking about them when you\\'re doing something else?\\n\\nWhat do you do next? **Start building and never stop**. This is the advice from a Stack Overflow developer survey from a few years ago about how to stay current and how to grow as a developer: \"Build things all the time and never stop\". I couldn\\'t agree more.\\n\\n<Image src={programmingBugReleased} alt=\"Build things all the time and never stop\" />\\n\\nThe first complete web app I built for myself was my [Article Optimizer](/blog/open-sourced-article-optimizer). It was brutal. I didn\\'t even know the names of the things I didn\\'t know - so I couldn\\'t Google them. I had to work backwards by examining apps that were similar enough to what I was trying to build (for example, an app that presented the user with a form they could use to submit data) and reverse engineer it, reading the page source code, and trying to find out more information about the base technologies.'),\n",
              " Document(metadata={'source': 'portfolio/src/app/blog/top-ai-dev-tools-bugs/page.mdx'}, page_content='import { ArticleLayout } from \\'@/components/ArticleLayout\\' import  Image  from \\'next/image\\'\\n\\nimport hackerEvaluation from \\'@/images/hacker\\n\\nbladerunner\\n\\nmany\\n\\nterminals.webp\\'\\n\\nimport hackerConfused from \\'@/images/hacker\\n\\nbladerunner\\n\\nconfused.webp\\'\\n\\nimport hackerEnragedAtInlinedCodeResponse from\\'@/images/hacker\\n\\nenraged\\n\\nat\\n\\ninlined\\n\\nai\\n\\nresponse.webp\\'\\n\\nimport agentForgettingPrompting from \\'@/images/agent\\n\\nforgetting\\n\\nits\\n\\nprompting.webp\\'\\n\\nimport yourAIDevToolSucks from \\'@/images/your\\n\\nai\\n\\ndev\\n\\ntool\\n\\nsucks.webp\\'\\n\\nimport hackerQuitingYourCrappyTool from \\'@/images/hacker\\n\\nquitting\\n\\nyour\\n\\ncrappy\\n\\ntool.webp\\'\\n\\nimport { createMetadata } from \\'@/utils/createMetadata\\'\\n\\nimport ConsultingCTA from \\'@/components/ConsultingCTA\\'\\n\\nexport const metadata = createMetadata({ author: \\'Zachary Proser\\', date: \\'2023-10-09\\', title: \\'The top bugs all AI developer tools are suffering from\\', description: \\'I have evaluated everything from ChatGPT to CoPilot to Codeium to Cursor, to Sourcegraph Cody to CodiumAI. All suffer from the same bugs\\', image: hackerEvaluation, })\\n\\nexport default (props) => <ArticleLayout metadata={metadata} {...props} />\\n\\n<Image src={hackerConfused} alt=\"A confused developer trying to make sense of Cursor\\'s strange output\" /> <figcaption>A confused hacker trying to figure out why the AI-assisted IDE Cursor just broke his entire file by inlining its generated code in the wrong place</figcaption>\\n\\n## Inlining response code in the wrong place.\\n\\nCursor, I\\'m looking at you. If I select a block of code in my IDE, then pop up the cursor prompt with command+k and ask for a reasonable unit test to be generated, then, believe it or not, I don\\'t want that unit test generated directly inside my application code, breaking my entire file as it sprays itself across functions and comments.\\n\\n<Image src={hackerEnragedAtInlinedCodeResponse} alt=\"A hacker enraged that AI just inlined a response directly in their application code\" />\\n\\nThis is a symptom of the follow-up problem, where an agent or AI in a complex environment hasn\\'t been sufficiently prompted to determine when it needs to ask follow-up questions in order to perform the task correctly.\\n\\n<ConsultingCTA />\\n\\nUnfortunately, the first time I tried out the AI-assisted Cursor IDE, and asked for a unit test, the unit test was inlined directly in my application code without a moment\\'s pause or second thought.\\n\\nIdeally, the first time I ask for a unit test to be generated, the agent should: * realize it needs to ask me follow-up questions such as where do I want the test files to live * offer me a few options from some sane defaults for my project, language and framework * offer to remember my choice in the future so that I don\\'t continuously have to repeat myself\\n\\n## \"Forgetting\" its original prompting after long breaks in coding sessions\\n\\n<Image src={agentForgettingPrompting} alt=\"A confused agent forgetting its original prompting after a long break\" />\\n\\nI\\'ve noticed this to be most pronounced in Sourcegraph\\'s Cody tool, which is otherwise excellent and, I feel, one of the more promising AI-assisted developer tools.\\n\\nIf you are working with Cody for a while, asking questions about your codebase, having it generate boilerplate code for you, and then you take a multi-hour break to do something else, when you return and ask it another question about your code, Cody will tend to respond that it\\'s just an AI model with no access to your codebase.\\n\\n\"Huh, but you are an AI model with direct access to the graph representation of my code as well as vector embeddings of all my files and you\\'ve been specifically prompted to read my code whenever I issue you a natural language query about it, my good AI assistant! \", I\\'ll remind it.\\n\\nMore often than not, this reminder is sufficient to help rattle Cody back into reality and it continues to hum along more or less correctly after that. This issue is not specific to cody.'),\n",
              " Document(metadata={'source': 'portfolio/src/app/blog/top-ai-dev-tools-bugs/page.mdx'}, page_content='More often than not, this reminder is sufficient to help rattle Cody back into reality and it continues to hum along more or less correctly after that. This issue is not specific to cody.\\n\\nEven after hours of happily coding alongside ChatGPT4 in the browser on a specific application together, I\\'ll occasionally get back odd responses that suggest ChatGPT4 has temporarily \"forgotten\" what we\\'re focusing on, discarding all the prior context in the same session.\\n\\nAt this point, a similar strategy of reminding it what we\\'re doing, and being extremely explicit about what I want it to return when it responds, tends to put it back on track.\\n\\n## Hand-waving away the critical parts of generated code snippets\\n\\nWhen I code alongside ChatGPT4, I will occasionally ask it to generate the beginnings of either a new component for me, if I\\'m working in Next.js, or an API route, or perhaps a Jest unit test. Most of the time, ChatGPT4 is surprisingly effective at what it can generate and explain clearly.\\n\\nHowever, I\\'ve noticed that the longer or deeper I go into a given session with it, the more likely it becomes to start omittting for brevity the specific code that I\\'m looking to see generated, either because I\\'m experiencing a bug or because I don\\'t understand how some feature or concept that is new to me is supposed to work.\\n\\nThis manifests as ChatGPT4 returning an otherwise high quality response, yet eliding the specific code or parameters I asked it about with:\\n\\n``` {*/ The rest of your code here */} ```\\n\\nTo which I then respond: \"Do not elide code by stating - the rest of your code here. Expand the sample code fully. Omit your explanation if that is required to return your entire response within the text length or time limits.\"\\n\\nThis is mostly a minor annoyance, and, to be fair, as of this writing, I still find ChatGPT4, either in a browser tab or via elegant open-source wrappers such as [`mods`](https://github.com/charmbracelet/mods) to be the most effective coding and architectural discussion partner of all the tools I\\'ve tried this year.\\n\\n## Having poor setup UX\\n\\n<Image src={yourAIDevToolSucks} alt=\"Your AI dev tool sucks and is insufficiently instrumented to send home errors\" />\\n\\nThis is sort of par for the course with Neovim plugins, and tends to be considered a feature, more than a bug, because Neovim users are somewhat inured to painful setups. After all, we volunteer to install a plugin from a stranger\\'s GitHub respository and configure it with various different styles of lua snippets depending on which plugin manager (of several options) we happen to be using. I\\'m not claiming we\\'re all sadists, but let\\'s say getting a new plugin installed and configured to our liking requires grit, and we expect this.\\n\\nVSCode is a completely different animal. It feels more like an operating system than an IDE, and perhaps the thing that annoys me the most about it is the number of popups and third-party extension alerts that are thrown up on screen every time I simply load a file to try to read or edit it.\\n\\nThe benefit of having a, shall we say, \"richer\" UX is that the installation and configuration workflows for VSCode can be more complex. Many plugins, especially AI-assisted developer tools, tend to first show a popup asking you to authenticate to, say Codeium, and provide a link that opens in your browser and asks you to authenticate to Codeium\\'s servers.\\n\\nOf course you then need to authorize the return - wherein Codeium\\'s login flow asks you for permission to open a link in your VSCode IDE in order for your IDE to capture the auth token generated that identiifes your account and save it to the known path where it will be loaded from in the future.')]"
            ]
          },
          "metadata": {},
          "execution_count": 19
        }
      ]
    },
    {
      "cell_type": "code",
      "source": [
        "from langchain_openai import ChatOpenAI\n",
        "from langchain.chains import RetrievalQA\n",
        "\n",
        "llm = ChatOpenAI(\n",
        "    model=\"gpt-3.5-turbo\",\n",
        "    temperature=0\n",
        ")\n",
        "\n",
        "qa = RetrievalQA.from_chain_type(\n",
        "    llm=llm,\n",
        "    chain_type=\"stuff\",\n",
        "    retriever=vectorstore.as_retriever()\n",
        ")\n",
        "\n",
        "qa.invoke(query)"
      ],
      "metadata": {
        "colab": {
          "base_uri": "https://localhost:8080/"
        },
        "id": "WPMPv4iWetmT",
        "outputId": "81fc1f9c-7954-4463-d95b-bde7697b6217"
      },
      "execution_count": 20,
      "outputs": [
        {
          "output_type": "execute_result",
          "data": {
            "text/plain": [
              "{'query': 'What is the programming bug?',\n",
              " 'result': '\"The programming bug\" refers to the spark of innate curiosity that drives someone\\'s learning forward in the field of software development, coding, systems engineering, machine learning, data science, and other computer-related areas. It is the intrinsic motivation that comes from within the individual, pushing them to explore and learn without external pressure.'}"
            ]
          },
          "metadata": {},
          "execution_count": 20
        }
      ]
    },
    {
      "cell_type": "markdown",
      "source": [
        "# **Regards, Tariq Ibrahim**"
      ],
      "metadata": {
        "id": "xdu0DcG74QK6"
      }
    }
  ]
}